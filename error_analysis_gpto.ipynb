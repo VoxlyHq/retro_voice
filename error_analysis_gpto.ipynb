{
 "cells": [
  {
   "cell_type": "code",
   "execution_count": null,
   "metadata": {},
   "outputs": [],
   "source": [
    "from ocr import OCRProcessor\n",
    "from PIL import Image\n",
    "from pathlib import Path\n",
    "from ocr_enum import OCREngine\n",
    "\n",
    "import matplotlib.pyplot as plt"
   ]
  },
  {
   "cell_type": "code",
   "execution_count": null,
   "metadata": {},
   "outputs": [],
   "source": [
    "def extract_string_between(text, start, end):\n",
    "    try:\n",
    "        start_index = text.index(start) + len(start)\n",
    "        end_index = text.index(end, start_index)\n",
    "        return text[start_index:end_index]\n",
    "    except ValueError:\n",
    "        return None\n",
    "\n",
    "def clean_vision_model_output(response):\n",
    "    if type(response) is str:\n",
    "        text = response\n",
    "    else:\n",
    "        text = response['choices'][0]['message']['content']\n",
    "    if '```' not in text:\n",
    "        ocr_text = \"\"\n",
    "    else:\n",
    "        ocr_text = extract_string_between(text, \"```\", \"```\")\n",
    "    cleaned_ocr_text = ocr_text.replace('\\n', ' ')\n",
    "    return cleaned_ocr_text"
   ]
  },
  {
   "cell_type": "code",
   "execution_count": null,
   "metadata": {},
   "outputs": [],
   "source": [
    "ocr = OCRProcessor(OCREngine.OPENAI)\n"
   ]
  },
  {
   "cell_type": "code",
   "execution_count": null,
   "metadata": {},
   "outputs": [],
   "source": [
    "img_fld = Path('../data/dialogue_boxes_jp/')\n",
    "\n",
    "img_paths = list(img_fld.iterdir())"
   ]
  },
  {
   "cell_type": "code",
   "execution_count": null,
   "metadata": {},
   "outputs": [],
   "source": [
    "num = 1\n",
    "img_path = img_fld.joinpath(f\"{num}_window_capture.jpg\")\n",
    "print(img_path)\n",
    "print(img_path.name)\n",
    "image = Image.open(img_path)\n",
    "plt.imshow(image)\n",
    "plt.show()\n",
    "for i in range(10):\n",
    "    img_bytes = ocr.process_image(image)\n",
    "    response = ocr.ocr_openai(img_bytes)\n",
    "\n",
    "    print(response['choices'][0]['message']['content'])\n",
    "    print(clean_vision_model_output(response))\n"
   ]
  },
  {
   "cell_type": "code",
   "execution_count": null,
   "metadata": {},
   "outputs": [],
   "source": []
  }
 ],
 "metadata": {
  "kernelspec": {
   "display_name": "base",
   "language": "python",
   "name": "python3"
  },
  "language_info": {
   "codemirror_mode": {
    "name": "ipython",
    "version": 3
   },
   "file_extension": ".py",
   "mimetype": "text/x-python",
   "name": "python",
   "nbconvert_exporter": "python",
   "pygments_lexer": "ipython3",
   "version": "3.12.3"
  }
 },
 "nbformat": 4,
 "nbformat_minor": 2
}
